{
 "cells": [
  {
   "cell_type": "markdown",
   "metadata": {},
   "source": [
    "# Assignment 11\n",
    "## name : rocky kim \n",
    "## student id : 20152424\n",
    "## github link :[https://github.com/Epicevent/assignment11](https://github.com/Epicevent/assignment11 ) "
   ]
  },
  {
   "cell_type": "markdown",
   "metadata": {},
   "source": [
    "# denosing model \n",
    "\n",
    "$$\n",
    "f = u + η \n",
    "$$\n",
    "\n",
    "\n",
    "where f is an input noisy image, u is a desired\n",
    "reconstruction, and η is a noise process\n",
    "\n",
    "\n",
    "$$\n",
    "n ∼ N (0, \sigma^2 ) \n",
    "$$"
   ]
  },
  {
   "cell_type": "code",
   "execution_count": 1,
   "metadata": {},
   "outputs": [],
   "source": [
    "import matplotlib.pyplot as plt\n",
    "import numpy as np\n",
    "from scipy import signal\n",
    "from scipy import sparse as sp\n",
    "from skimage import io, color\n",
    "from skimage import exposure\n",
    "\n",
    "file_image\t= 'cau.jpg'\n",
    "\n",
    "im_color \t= io.imread(file_image)\n",
    "im_gray  \t= color.rgb2gray(im_color)\n",
    "im          = (im_gray - np.mean(im_gray)) / np.std(im_gray)\n",
    "(rows, cols)  = im.shape\n",
    "\n",
    "def noise_process(noise_std):# try with varying noise standard deviation\n",
    "    noise       = np.random.normal(0, noise_std, (rows, cols))\n",
    "    im_noise    = im + noise\n",
    "    return im_noise\n",
    "\n",
    "\n",
    "def imshow(im_recon,im_noise,i,ltstr):\n",
    "   \n",
    "    fig = plt.figure(i) \n",
    "    # title \n",
    "    st = fig.suptitle(ltstr, fontsize=\"large\")\n",
    "    # obtain the reconstructed (denoised) images with varying degrees of regularization \n",
    "    noise_recon = im_noise - im_recon\n",
    "    p1 = fig.add_subplot(2,2,1)\n",
    "    p1.set_title('original image')\n",
    "    p1.imshow(im, cmap='gray')\n",
    "    p1.axis('off')\n",
    "\n",
    "    p2 = fig.add_subplot(2,2,2)\n",
    "    p2.set_title('noisy image')\n",
    "    p2.imshow(im_noise, cmap='gray')\n",
    "    p2.axis('off')\n",
    "\n",
    "    p3 = fig.add_subplot(2,2,3)\n",
    "    p3.set_title('reconstruction')\n",
    "    p3.imshow(im_recon, cmap='gray')\n",
    "    p3.axis('off')\n",
    "\n",
    "    p4 = fig.add_subplot(2,2,4)\n",
    "    p4.set_title('estimated noise')\n",
    "    p4.imshow(noise_recon, cmap='gray')\n",
    "    p4.axis('off')\n",
    "    #plt.show()\n",
    "    \n",
    "# test code \n",
    "im_recon_test = im # this must be replaced with the reconstructed (denoised) image \n",
    "imshow(im_recon_test,noise_process(0.2),100,\"TEST\" )"
   ]
  },
  {
   "cell_type": "markdown",
   "metadata": {},
   "source": [
    "# vectorize and linear model for solve problem\n",
    "\n",
    "\n",
    "our linear model is ... \n",
    "$$\n",
    "\\epsilon(u; \\lambda) = \\| u − f \\|_2^2 + \\lambda \\| \\nabla u  \\|_2^2\n",
    "$$\n",
    "\n",
    "\n",
    "# notation : vec(f) = y ,vec(u)= x \n",
    "\n",
    "\n",
    "$$\n",
    "f,u \\in \\mathbb{R}^{n\\times m }\n",
    "$$\n",
    "\n",
    "$$\n",
    "y,x \\in \\mathbb{R}^{nm} \n",
    "$$\n",
    "\n",
    "$$\n",
    "\\|\\text{I}x - y\\|^2  = \\|u-f\\|_2^2\n",
    "$$\n",
    "\n",
    "\n",
    "$$\n",
    "\\|\\text{D}_hx + \\text{D}_v x\\|^2  = \\|  \\nabla u  \\|_2^2\n",
    "$$"
   ]
  },
  {
   "cell_type": "code",
   "execution_count": 2,
   "metadata": {},
   "outputs": [],
   "source": [
    "def vectorize(A):\n",
    "    return (A.flatten('F')).reshape(-1,1)"
   ]
  },
  {
   "cell_type": "markdown",
   "metadata": {},
   "source": [
    "# definition of D matrix \n",
    "\n",
    "note that rows = n , cols = m \n",
    "\n",
    "\n",
    "$$\n",
    "D_h =   \\left[ I_{nm-n} {\\begin{array}{ccccc}\n",
    "   0 \\cdots 0 \\\\\n",
    "   \\vdots \\vdots \\vdots  \\\\\n",
    "   0 \\cdots 0 \n",
    "  \\end{array}}  \\right] - \\left[{\\begin{array}{ccccc}\n",
    "   0 \\cdots 0 \\\\\n",
    "   \\vdots \\vdots \\vdots  \\\\\n",
    "   0 \\cdots 0 \n",
    "  \\end{array}}  I_{nm-n}  \\right] \\in \\mathbb{R}^{(nm-n) \\times nm }\n",
    "$$\n",
    "\n",
    "\n",
    "$$\n",
    "D_{v} =   \\left[{\\begin{array}{ccccc}\n",
    "   B_v  O O \\cdots O  \\\\\n",
    "    O B_v O \\cdots O  \\\\\n",
    "   O  O  \\ddots O O  \\\\\n",
    "   O  O  \\cdots O B_v  \\end{array}}  \\right] = I_{m} \\otimes B_v\n",
    "$$\n",
    "\n",
    "\n",
    "$$\n",
    "B_{v}= \\text{A Block of }D_{v} =   \\left[ I_{n-1} {\\begin{array}{ccccc}\n",
    "   0  \\\\\n",
    "  \\vdots  \\\\\n",
    "   0  \\end{array}}  \\right] \n",
    "   - \\left[{\\begin{array}{ccccc}\n",
    "   0 \\\\\n",
    "   \\vdots  \\\\\n",
    "   0 \\end{array}} I_{n-1}  \\right] \\in \\mathbb{R}^{(n-1) \\times n }\n",
    "$$"
   ]
  },
  {
   "cell_type": "code",
   "execution_count": 3,
   "metadata": {},
   "outputs": [],
   "source": [
    "def sparce_Dmatrix(n,m):\n",
    "    D_h1 = sp.hstack(\n",
    "        [sp.eye(n*m-n, format=\"csr\"),  \n",
    "         sp.csr_matrix((n*m-n, n))]) \n",
    "    D_h2 = sp.hstack(\n",
    "        [sp.csr_matrix((n*m-n, n)),\n",
    "         sp.eye(n*m-n, format=\"csr\")])\n",
    "    B_v1 =  sp.hstack(\n",
    "        [sp.eye(n-1, format=\"csr\"),sp.csr_matrix((n-1, 1))]) \n",
    "    B_v2 = sp.hstack(\n",
    "        [sp.csr_matrix((n-1, 1)),\n",
    "         sp.eye(n-1, format=\"csr\")])\n",
    "    # B_v ,D_v .D_h\n",
    "    D_h =D_h1 - D_h2\n",
    "    B_v = B_v1 - B_v2\n",
    "    D_v = sp.kron(sp.eye(m),B_v)\n",
    "    return D_v, D_h \n"
   ]
  },
  {
   "cell_type": "markdown",
   "metadata": {},
   "source": [
    "# definition of least square problem \n",
    "\n",
    "\n",
    "$$\n",
    "\\epsilon(u; \\lambda) = \\| u − f \\|_2^2 + \\lambda \\| \\nabla u  \\|_2^2\n",
    "= \n",
    "\\|\\text{I}x - y\\|^2 + \n",
    "\\lambda (\\|\\text{D}_hx\\|^2 + \\|\\text{D}_v x\\|^2) \n",
    "$$\n",
    "\n",
    "\n",
    "$$\n",
    "A = \\left[{\\begin{array}{ccccc}\n",
    "    I_{nm} \\\\\n",
    "    \\sqrt{\\lambda}D_v  \\\\\n",
    "    \\sqrt{\\lambda}D_h \\end{array}} \\right]\n",
    "$$\n",
    "\n",
    "\n",
    "$$\n",
    "b =  \\left[{\\begin{array}{ccccc}\n",
    "    y \\\\\n",
    "    0_{nm - m }   \\\\\n",
    "    0_{nm-n} \\end{array}} \\right]\n",
    "$$\n",
    "\n",
    "\n",
    "$$\n",
    "\\| Ax - b \\|^2\n",
    "$$"
   ]
  },
  {
   "cell_type": "code",
   "execution_count": 4,
   "metadata": {},
   "outputs": [],
   "source": [
    "def makeA(lada):\n",
    "    root_lambda=np.power(lada,0.5)\n",
    "    # using sparse matrix \n",
    "    a =sp.eye(rows*cols)\n",
    "    D_v,D_h = sparce_Dmatrix(rows,cols)\n",
    "    b = root_lambda*D_v\n",
    "    c = root_lambda*D_h\n",
    "    return sp.vstack([a,b,c])\n",
    "# deffinition of b\n",
    "def makeb(y):\n",
    "    y = sp.csr_matrix(y)\n",
    "    b = sp.vstack([y, sp.csr_matrix((2*rows*cols-rows-cols,1))])\n",
    "    return b"
   ]
  },
  {
   "cell_type": "code",
   "execution_count": 5,
   "metadata": {},
   "outputs": [],
   "source": [
    "def solve_least_square(A,b):\n",
    "    b = b.toarray()\n",
    "    b = np.squeeze(b)\n",
    "    x, istop, itn, normr = sp.linalg.lsmr(A, b)[:4]\n",
    "    return x ,normr"
   ]
  },
  {
   "cell_type": "code",
   "execution_count": 6,
   "metadata": {},
   "outputs": [],
   "source": [
    "def calculate_x_and_error(lambda_,sigma_):\n",
    "    return  solve_least_square(makeA(lambda_),makeb(vectorize(noise_process(sigma_))))"
   ]
  },
  {
   "cell_type": "markdown",
   "metadata": {},
   "source": [
    "# Try with varying the noise standard deviation σ and the regularization parameter lambda"
   ]
  },
  {
   "cell_type": "code",
   "execution_count": 7,
   "metadata": {},
   "outputs": [],
   "source": [
    "# test set \n",
    "sigma_set = np.array([0.2,0.7,1])\n",
    "lambda_set = np.array([ np.power(2,np.float(i))for i in range(-10,10)])\n",
    "lambda_grid,sigma_grid  = np.meshgrid( lambda_set,sigma_set, sparse=False)\n",
    "def get_x_and_error(sigma_grid,lambda_grid):\n",
    "    (n , m)  =np.shape(sigma_grid)\n",
    "    x_grid=np.zeros((n,m,rows*cols))\n",
    "    error_grid = np.zeros((n,m))\n",
    "    for i in range(n):\n",
    "        for j in range(m):\n",
    "            x_grid[i,j,:] , error_grid[i,j] =calculate_x_and_error(lambda_grid[i,j],sigma_grid[i,j])\n",
    "    return x_grid, error_grid"
   ]
  },
  {
   "cell_type": "markdown",
   "metadata": {},
   "source": [
    "# Present the reconstruction image with varying regularization"
   ]
  },
  {
   "cell_type": "markdown",
   "metadata": {},
   "source": [
    "# Present the reconstruction error E(u;lambda) with varying regularization parameter lambda"
   ]
  },
  {
   "cell_type": "code",
   "execution_count": null,
   "metadata": {},
   "outputs": [],
   "source": [
    "x_grid, error_grid = get_x_and_error(sigma_grid,lambda_grid)\n",
    "(n , m)  =np.shape(error_grid)\n",
    "for i in range (n):\n",
    "    for j in range(m):       \n",
    "        imrecon=x_grid[i,j,:].reshape(rows,cols,order='F')\n",
    "        imnoise = noise_process(sigma_grid[i,j])\n",
    "        large_title =  (\"lambda = {:f}  sigma = {:2.1f} Error with original = {:10.5f}\".format(\n",
    "            lambda_grid[i,j],sigma_grid[i,j],np.linalg.norm(im - imrecon)))\n",
    "        imshow(imrecon,imnoise,m*i+j,large_title)"
   ]
  },
  {
   "cell_type": "code",
   "execution_count": null,
   "metadata": {},
   "outputs": [],
   "source": [
    "plt.title(\"sigma = {:f}\".format(sigma_grid[0,0]))\n",
    "plt.plot(lambda_grid[0,:], error_grid[0,:])        # reconstruction error"
   ]
  },
  {
   "cell_type": "code",
   "execution_count": null,
   "metadata": {},
   "outputs": [],
   "source": [
    "plt.title(\"sigma = {:f}\".format(sigma_grid[1,0]))\n",
    "plt.plot(lambda_grid[1,:], error_grid[1,:])        # reconstruction error"
   ]
  },
  {
   "cell_type": "code",
   "execution_count": null,
   "metadata": {},
   "outputs": [],
   "source": [
    "plt.title(\"sigma = {:f}\".format(sigma_grid[2,0]))\n",
    "plt.plot(lambda_grid[2,:], error_grid[2,:])        # reconstruction error"
   ]
  }
 ],
 "metadata": {
  "kernelspec": {
   "display_name": "Python 3",
   "language": "python",
   "name": "python3"
  },
  "language_info": {
   "codemirror_mode": {
    "name": "ipython",
    "version": 3
   },
   "file_extension": ".py",
   "mimetype": "text/x-python",
   "name": "python",
   "nbconvert_exporter": "python",
   "pygments_lexer": "ipython3",
   "version": "3.7.0"
  }
 },
 "nbformat": 4,
 "nbformat_minor": 2
}
